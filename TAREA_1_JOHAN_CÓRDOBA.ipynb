{
  "nbformat": 4,
  "nbformat_minor": 0,
  "metadata": {
    "colab": {
      "provenance": [],
      "authorship_tag": "ABX9TyOpz8kBCdrXdBVO6J3KThDo",
      "include_colab_link": true
    },
    "kernelspec": {
      "name": "python3",
      "display_name": "Python 3"
    },
    "language_info": {
      "name": "python"
    }
  },
  "cells": [
    {
      "cell_type": "markdown",
      "metadata": {
        "id": "view-in-github",
        "colab_type": "text"
      },
      "source": [
        "<a href=\"https://colab.research.google.com/github/johancordoba78/Blog_2/blob/main/TAREA_1_JOHAN_C%C3%93RDOBA.ipynb\" target=\"_parent\"><img src=\"https://colab.research.google.com/assets/colab-badge.svg\" alt=\"Open In Colab\"/></a>"
      ]
    },
    {
      "cell_type": "code",
      "execution_count": null,
      "metadata": {
        "id": "7i7gF5qEkuCh"
      },
      "outputs": [],
      "source": []
    },
    {
      "cell_type": "markdown",
      "source": [
        "#Tarea número 1\n",
        "# Elaboró Johan Córdoba Peraza"
      ],
      "metadata": {
        "id": "WrmBvI1Ek8M8"
      }
    },
    {
      "cell_type": "code",
      "source": [
        "# PRIMER PASO SE CREA UN DICCIONARIO CON LA TABLA 1 DE LA TAREA Y QUE INCLUYA LA DESCRIPICIÓN Y  LA CATIDAD DE CADA ANIMAL\n",
        "\n",
        "animales = {\n",
        "    \"Conejo\": {\"Descripción\": \"Pequeño mamífero con orejas largas y pelaje suave que se alimenta de hojas, brotes y hierbas\", \"Categoría\": \"Herbívoro\", \"Cantidad\": 12},\n",
        "    \"Gato Montés\": {\"Descripción\": \"Felino de tamaño mediano con pelaje moteado, es un depredador carnívoro que se alimenta de roedores, aves y otros pequeños mamíferos\", \"Categoría\": \"Carnívoro\", \"Cantidad\": 3},\n",
        "    \"Koala\": {\"Descripción\": \"Marsupial que se alimenta exclusivamente de hojas de eucalipto\", \"Categoría\": \"Herbívoro\", \"Cantidad\": 6}\n",
        "}\n",
        "print (animales)\n"
      ],
      "metadata": {
        "colab": {
          "base_uri": "https://localhost:8080/"
        },
        "id": "lQvpU7Psmemx",
        "outputId": "8d222bcf-47c7-465d-f3c6-015ee6f41e24"
      },
      "execution_count": 16,
      "outputs": [
        {
          "output_type": "stream",
          "name": "stdout",
          "text": [
            "{'Conejo': {'Descripción': 'Pequeño mamífero con orejas largas y pelaje suave que se alimenta de hojas, brotes y hierbas', 'Categoría': 'Herbívoro', 'Cantidad': 12}, 'Gato Montés': {'Descripción': 'Felino de tamaño mediano con pelaje moteado, es un depredador carnívoro que se alimenta de roedores, aves y otros pequeños mamíferos', 'Categoría': 'Carnívoro', 'Cantidad': 3}, 'Koala': {'Descripción': 'Marsupial que se alimenta exclusivamente de hojas de eucalipto', 'Categoría': 'Herbívoro', 'Cantidad': 6}}\n"
          ]
        }
      ]
    },
    {
      "cell_type": "code",
      "source": [
        "# Acceder a la información del conejo y su cantidad\n",
        "info_conejo = animales['Conejo']\n",
        "cantidad_conejo = info_conejo['Cantidad']\n",
        "\n",
        "# Imprimir la información del conejo y su cantidad\n",
        "print(\"Información del Conejo:\")\n",
        "print(\"Descripción:\", info_conejo['Descripción'])\n",
        "print(\"Cantidad:\", cantidad_conejo)\n",
        "# Acceder a la información del gato montés y su cantidad\n",
        "info_gato_montes = animales['Gato Montés']\n",
        "cantidad_gato_montes = info_gato_montes['Cantidad']\n",
        "\n",
        "# Imprimir la información del gato montés y su cantidad\n",
        "print(\"Información del Gato Montés:\")\n",
        "print(\"Descripción:\", info_gato_montes['Descripción'])\n",
        "print(\"Cantidad:\", cantidad_gato_montes)\n",
        "\n",
        "# Acceder a la información del koala y su cantidad\n",
        "info_koala = animales['Koala']\n",
        "cantidad_koala = info_koala['Cantidad']\n",
        "\n",
        "# Imprimir la información del koala y su cantidad\n",
        "print(\"\\nInformación del Koala:\")\n",
        "print(\"Descripción:\", info_koala['Descripción'])\n",
        "print(\"Cantidad:\", cantidad_koala)\n"
      ],
      "metadata": {
        "colab": {
          "base_uri": "https://localhost:8080/"
        },
        "id": "k42SSDV1nF_B",
        "outputId": "438540de-0cec-4828-a8cc-eb4d74e4b9a9"
      },
      "execution_count": 17,
      "outputs": [
        {
          "output_type": "stream",
          "name": "stdout",
          "text": [
            "Información del Conejo:\n",
            "Descripción: Pequeño mamífero con orejas largas y pelaje suave que se alimenta de hojas, brotes y hierbas\n",
            "Cantidad: 12\n",
            "Información del Gato Montés:\n",
            "Descripción: Felino de tamaño mediano con pelaje moteado, es un depredador carnívoro que se alimenta de roedores, aves y otros pequeños mamíferos\n",
            "Cantidad: 3\n",
            "\n",
            "Información del Koala:\n",
            "Descripción: Marsupial que se alimenta exclusivamente de hojas de eucalipto\n",
            "Cantidad: 6\n"
          ]
        }
      ]
    },
    {
      "cell_type": "markdown",
      "source": [
        "# 1. Crear una función llamada set_category() la cual recorra todos los registros\n",
        "diccionario y con base en su descripción logré determinar la categoría\n",
        "alimenticia de cada registro.\n"
      ],
      "metadata": {
        "id": "qTOrYFROo3MP"
      }
    },
    {
      "cell_type": "code",
      "source": [
        "# CREACIÖN FUNCIÓN \"set_category\"\n",
        "\n",
        "def set_category(animales):\n",
        "    for animal, info in animales.items():\n",
        "        descripcion = info['Descripción']\n",
        "        if 'herbívoro' in descripcion.lower():\n",
        "            info['Categoría'] = 'Herbívoro'\n",
        "        elif 'carnívoro' in descripcion.lower():\n",
        "            info['Categoría'] = 'Carnívoro'\n",
        "        else:\n",
        "            info['Categoría'] = 'Indefinido'\n",
        "\n",
        "# Llamada a la función set_category para asignar categorías a los animales\n",
        "set_category(animales)\n"
      ],
      "metadata": {
        "id": "Al739vIlpfwi"
      },
      "execution_count": 18,
      "outputs": []
    },
    {
      "cell_type": "code",
      "source": [
        "#   CREACIÓN FUNCIÓN \"category_verification ()\"\n",
        "def category_verification(animales):\n",
        "    for animal, info in animales.items():\n",
        "        if 'Indefinido' in info['Categoría']:\n",
        "            return 'Registros faltantes'\n",
        "    return 'Registros correctos'\n",
        "\n",
        "# Llamada a la función category_verification para verificar las categorías\n",
        "resultado_verificacion = category_verification(animales)\n",
        "print(resultado_verificacion)\n"
      ],
      "metadata": {
        "colab": {
          "base_uri": "https://localhost:8080/"
        },
        "id": "rqt20_q8osFZ",
        "outputId": "dae14f40-a471-4928-8129-7534e88db745"
      },
      "execution_count": 20,
      "outputs": [
        {
          "output_type": "stream",
          "name": "stdout",
          "text": [
            "Registros faltantes\n"
          ]
        }
      ]
    },
    {
      "cell_type": "markdown",
      "source": [
        "# Segunda parte de la tarea"
      ],
      "metadata": {
        "id": "Y0tVktYIqioM"
      }
    },
    {
      "cell_type": "code",
      "source": [
        "# CREAR LA FUNCIÓN \"calcular_gastos ()\"\n",
        "def calcular_gastos(animales):\n",
        "    costo_herbivoros = 15\n",
        "    cantidad_herbivoros_por_pedido = 5\n",
        "\n",
        "    costo_carnivoros = 25\n",
        "    cantidad_carnivoros_por_pedido = 3\n",
        "\n",
        "    total_herbivoros = 0\n",
        "    total_carnivoros = 0\n",
        "\n",
        "    for animal, info in animales.items():\n",
        "        cantidad = info['Cantidad']\n",
        "        categoria = info['Categoría']\n",
        "\n",
        "        if categoria == 'Herbívoro':\n",
        "            pedidos = cantidad / cantidad_herbivoros_por_pedido\n",
        "            costo_total = pedidos * costo_herbivoros\n",
        "            total_herbivoros += costo_total\n",
        "        elif categoria == 'Carnívoro':\n",
        "            pedidos = cantidad / cantidad_carnivoros_por_pedido\n",
        "            costo_total = pedidos * costo_carnivoros\n",
        "            total_carnivoros += costo_total\n",
        "\n",
        "    return total_herbivoros, total_carnivoros\n",
        "\n",
        "# Llamada a la función calcular_gastos\n",
        "gastos_herbivoros, gastos_carnivoros = calcular_gastos(animales)\n",
        "\n",
        "# Imprimir los resultados\n",
        "print(\"Gastos en herbívoros: $\", gastos_herbivoros)\n",
        "print(\"Gastos en carnívoros: $\", gastos_carnivoros)\n"
      ],
      "metadata": {
        "colab": {
          "base_uri": "https://localhost:8080/"
        },
        "id": "K6Uw9ENHq17Q",
        "outputId": "e58fb34f-3a6e-4960-f32d-87f8acd0cd47"
      },
      "execution_count": 21,
      "outputs": [
        {
          "output_type": "stream",
          "name": "stdout",
          "text": [
            "Gastos en herbívoros: $ 0\n",
            "Gastos en carnívoros: $ 25.0\n"
          ]
        }
      ]
    },
    {
      "cell_type": "code",
      "source": [
        "# CREAR LA FUNCIÓN \"calculate_food_quantity()\"\n",
        "def calculate_food_quantity(animales):\n",
        "    total_herbivoros = sum(info['Cantidad'] for animal, info in animales.items() if info['Categoría'] == 'Herbívoro')\n",
        "    total_carnivoros = sum(info['Cantidad'] for animal, info in animales.items() if info['Categoría'] == 'Carnívoro')\n",
        "\n",
        "    pedidos_herbivoros = total_herbivoros // 5\n",
        "    pedidos_carnivoros = total_carnivoros // 3\n",
        "\n",
        "    return pedidos_herbivoros, pedidos_carnivoros\n",
        "\n",
        "# Llamada a la función calculate_food_quantity\n",
        "pedidos_herbivoros, pedidos_carnivoros = calculate_food_quantity(animales)\n",
        "print(\"Cantidad de pedidos de alimento para herbívoros:\", pedidos_herbivoros)\n",
        "print(\"Cantidad de pedidos de alimento para carnívoros:\", pedidos_carnivoros)\n",
        "\n"
      ],
      "metadata": {
        "colab": {
          "base_uri": "https://localhost:8080/"
        },
        "id": "KFAdYvZYr1gy",
        "outputId": "d2239ea9-44ab-4146-9818-c3985c79b253"
      },
      "execution_count": 13,
      "outputs": [
        {
          "output_type": "stream",
          "name": "stdout",
          "text": [
            "Cantidad de pedidos de alimento para herbívoros: 0\n",
            "Cantidad de pedidos de alimento para carnívoros: 1\n"
          ]
        }
      ]
    },
    {
      "cell_type": "code",
      "source": [
        "# CREAR LA FUNCIÓN \"calculate_food_cost()\"\n",
        "def calculate_food_cost(herbivore_quantity, carnivore_quantity):\n",
        "    costo_herbivoros = herbivore_quantity * 15\n",
        "    costo_carnivoros = carnivore_quantity * 25\n",
        "\n",
        "    costo_total = costo_herbivoros + costo_carnivoros\n",
        "    return costo_total\n",
        "\n",
        "# Llamada a la función calculate_food_cost\n",
        "costo_total_alimento = calculate_food_cost(pedidos_herbivoros, pedidos_carnivoros)\n",
        "print(\"Costo total del alimento: $\", costo_total_alimento)\n"
      ],
      "metadata": {
        "colab": {
          "base_uri": "https://localhost:8080/"
        },
        "id": "db3pZwrxsbMj",
        "outputId": "2f116f7f-5022-434b-b1d5-008df31171bf"
      },
      "execution_count": 15,
      "outputs": [
        {
          "output_type": "stream",
          "name": "stdout",
          "text": [
            "Costo total del alimento: $ 25\n"
          ]
        }
      ]
    }
  ]
}