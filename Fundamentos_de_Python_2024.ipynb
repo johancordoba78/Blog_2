{
  "cells": [
    {
      "cell_type": "markdown",
      "metadata": {
        "id": "view-in-github",
        "colab_type": "text"
      },
      "source": [
        "<a href=\"https://colab.research.google.com/github/johancordoba78/Blog_2/blob/main/Fundamentos_de_Python_2024.ipynb\" target=\"_parent\"><img src=\"https://colab.research.google.com/assets/colab-badge.svg\" alt=\"Open In Colab\"/></a>"
      ]
    },
    {
      "cell_type": "markdown",
      "metadata": {
        "id": "vih-HImYz9St"
      },
      "source": [
        "# Tipos de datos - Dispositiva 6\n",
        "\n"
      ]
    },
    {
      "cell_type": "markdown",
      "source": [
        "Todo en Python es un **objeto** y cada objeto en Python tiene un **tipo**. Algunos de los tipos básicos incluyen:\n",
        "\n",
        "- **`int`** (entero; un número entero sin lugar decimal)\n",
        "  - `10`\n",
        "  - `-3`\n",
        "- **`float`** (flotante; un número que tiene un lugar decimal)\n",
        "  - `7.41`\n",
        "  - `-0.006`\n",
        "- **`str`** (cadena; una secuencia de caracteres encerrada entre comillas simples, comillas dobles o comillas triples)\n",
        "  - `'esto es una cadena usando comillas simples'`\n",
        "  - `\"esto es una cadena usando comillas dobles\"`\n",
        "  - `'''esto es una cadena con comillas triples usando comillas simples'''`\n",
        "  - `\"\"\"esto es una cadena con comillas triples usando comillas dobles\"\"\"`\n",
        "- **`bool`** (booleano; un valor binario que es verdadero o falso)\n",
        "  - `True`\n",
        "  - `False`\n",
        "- **`NoneType`** (un tipo especial que representa la ausencia de un valor)\n",
        "  - `None`\n",
        "\n",
        "En Python, una **variable** es un nombre que especificas en tu código que se asigna a un **objeto**, instancia de objeto o valor particular.\n",
        "\n",
        "Al definir variables, podemos referirnos a cosas por nombres que tengan sentido para nosotros. Los nombres de las variables solo pueden contener letras, guiones bajos (`_`) o números (sin espacios, guiones u otros caracteres). Los nombres de las variables deben comenzar con una letra o guion bajo.\n"
      ],
      "metadata": {
        "id": "2jdRk2-GYDfn"
      }
    },
    {
      "cell_type": "code",
      "source": [
        "#Puedes hacer comentarios con el simbolo '#'\n",
        "\n",
        "entero = 21\n",
        "\n",
        "nombre = 'Mariana'\n",
        "\n",
        "apellido = \"Ramirez\"\n",
        "\n",
        "string1 = nombre + \" \" + apellido + \" tiene \" + str(entero) + \" años.\"\n",
        "\n",
        "print(string1)"
      ],
      "metadata": {
        "id": "DlriqR5n7dN8",
        "colab": {
          "base_uri": "https://localhost:8080/"
        },
        "outputId": "a7c7eadf-d8b7-4bac-f9c7-c50d725e7006"
      },
      "execution_count": null,
      "outputs": [
        {
          "output_type": "stream",
          "name": "stdout",
          "text": [
            "Mariana Ramirez tiene 21 años.\n"
          ]
        }
      ]
    },
    {
      "cell_type": "markdown",
      "source": [
        "#**Estructuras** básicas en Python - Diapositiva 7"
      ],
      "metadata": {
        "id": "rRqqz2vya0o_"
      }
    },
    {
      "cell_type": "markdown",
      "source": [
        "Nota: Los objetos **mutables** pueden ser modificados después de su creación y los objetos **inmutables** no pueden.\n",
        "\n",
        "Los contenedores son objetos que pueden usarse para agrupar otros objetos juntos. Los tipos básicos de contenedores incluyen:\n",
        "\n",
        "- **`str`** (cadena: inmutable; indexada por enteros; los elementos se almacenan en el orden en que se agregaron)\n",
        "- **`list`** (lista: mutable; indexada por enteros; los elementos se almacenan en el orden en que se agregaron)\n",
        "  - `[3, 5, 6, 3, 'perro', 'gato', False]`\n",
        "- **`tuple`** (tupla: inmutable; indexada por enteros; los elementos se almacenan en el orden en que se agregaron)\n",
        "  - `(3, 5, 6, 3, 'perro', 'gato', False)`\n",
        "- **`set`** (conjunto: mutable; no indexado en absoluto; los elementos NO se almacenan en el orden en que se agregaron; solo puede contener objetos inmutables; NO contiene objetos duplicados)\n",
        "  - `{3, 5, 6, 3, 'perro', 'gato', False}`\n",
        "- **`dict`** (diccionario: mutable; los pares clave-valor se indexan por claves inmutables; los elementos NO se almacenan en el orden en que se agregaron)\n",
        "  - `{'nombre': 'Jane', 'edad': 23, 'comidas_favoritas': ['pizza', 'fruta', 'pescado']}`\n",
        "\n",
        "Al definir listas, tuplas o conjuntos, utiliza comas (,) para separar los elementos individuales. Al definir diccionarios, utiliza dos puntos (:) para separar las claves de los valores y comas (,) para separar los pares clave-valor.\n",
        "\n",
        "Las cadenas, listas y tuplas son todos **tipos de secuencia** que pueden utilizar los operadores `+`, `*`, `+=`, y `*=`.\n"
      ],
      "metadata": {
        "id": "ThEpJ6bIbFJR"
      }
    },
    {
      "cell_type": "code",
      "execution_count": null,
      "metadata": {
        "collapsed": true,
        "id": "WSrW5wx_z9Tc"
      },
      "outputs": [],
      "source": [
        "# Assign some containers to different variables\n",
        "list1 = [3, 5, 6, 3, 'dog', 'cat', False]\n",
        "tuple1 = (3, 5, 6, 3, 'dog', 'cat', False)\n",
        "set1 = {3, 5, 6, 3, 'dog', 'cat', False}\n",
        "dict1 = {'name': 'Jane', 'age': 23, 'fav_foods': ['pizza', 'fruit', 'fish']}"
      ]
    },
    {
      "cell_type": "code",
      "execution_count": null,
      "metadata": {
        "id": "qx-bzc49z9Tc",
        "outputId": "b548df9f-aadb-490c-a066-53bb28a9aec8",
        "colab": {
          "base_uri": "https://localhost:8080/"
        }
      },
      "outputs": [
        {
          "output_type": "execute_result",
          "data": {
            "text/plain": [
              "[3, 5, 6, 3, 'dog', 'cat', False]"
            ]
          },
          "metadata": {},
          "execution_count": 3
        }
      ],
      "source": [
        "# Items in the list object are stored in the order they were added\n",
        "list1"
      ]
    },
    {
      "cell_type": "code",
      "execution_count": null,
      "metadata": {
        "id": "PZaXLlqtz9Td",
        "outputId": "f1e0f3eb-ec77-4fa5-97aa-abdf58195caa",
        "colab": {
          "base_uri": "https://localhost:8080/"
        }
      },
      "outputs": [
        {
          "output_type": "execute_result",
          "data": {
            "text/plain": [
              "(3, 5, 6, 3, 'dog', 'cat', False)"
            ]
          },
          "metadata": {},
          "execution_count": 4
        }
      ],
      "source": [
        "# Items in the tuple object are stored in the order they were added\n",
        "tuple1"
      ]
    },
    {
      "cell_type": "code",
      "execution_count": null,
      "metadata": {
        "id": "cs9UKSrfz9Td",
        "outputId": "5dd87b26-0074-4290-beeb-d03b8fd00b99",
        "colab": {
          "base_uri": "https://localhost:8080/"
        }
      },
      "outputs": [
        {
          "output_type": "execute_result",
          "data": {
            "text/plain": [
              "{3, 5, 6, False, 'cat', 'dog'}"
            ]
          },
          "metadata": {},
          "execution_count": 5
        }
      ],
      "source": [
        "# Items in the set object are not stored in the order they were added\n",
        "# Also, notice that the value 3 only appears once in this set object\n",
        "set1"
      ]
    },
    {
      "cell_type": "code",
      "execution_count": null,
      "metadata": {
        "id": "veEijwaaz9Te",
        "outputId": "d979283d-a112-4c4b-a31a-852a5b4eb8bf",
        "colab": {
          "base_uri": "https://localhost:8080/"
        }
      },
      "outputs": [
        {
          "output_type": "execute_result",
          "data": {
            "text/plain": [
              "{'name': 'Jane', 'age': 23, 'fav_foods': ['pizza', 'fruit', 'fish']}"
            ]
          },
          "metadata": {},
          "execution_count": 6
        }
      ],
      "source": [
        "# Items in the dict object are not stored in the order they were added\n",
        "dict1"
      ]
    },
    {
      "cell_type": "markdown",
      "source": [
        "## Acceso a datos en contenedores"
      ],
      "metadata": {
        "id": "5mJnnieaqSG8"
      }
    },
    {
      "cell_type": "markdown",
      "source": [
        "Para cadenas de texto, listas, tuplas y diccionarios, podemos usar la **notación de subíndices** (corchetes cuadrados) para acceder a datos en un índice.\n",
        "\n",
        "- Las cadenas de texto, listas y tuplas están indexadas por enteros, **comenzando en 0** para el primer elemento.\n",
        "  - Estos tipos de secuencia también admiten el acceso a un rango de elementos, conocido como **rebanado**.\n",
        "  - Usa el **indexado negativo** para comenzar desde el final de la secuencia.\n",
        "- Los diccionarios están indexados por sus claves.\n",
        "\n",
        "> Nota: los conjuntos no están indexados, por lo que no podemos usar la notación de subíndices para acceder a elementos de datos.\n"
      ],
      "metadata": {
        "id": "FoHCY-kdqNdd"
      }
    },
    {
      "cell_type": "code",
      "execution_count": null,
      "metadata": {
        "id": "BlOKxQYOz9Ti",
        "outputId": "076c1191-bc56-4f98-a6f1-90f60904ac30",
        "colab": {
          "base_uri": "https://localhost:8080/"
        }
      },
      "outputs": [
        {
          "output_type": "execute_result",
          "data": {
            "text/plain": [
              "3"
            ]
          },
          "metadata": {},
          "execution_count": 7
        }
      ],
      "source": [
        "# Access the first item in a sequence\n",
        "list1[0]"
      ]
    },
    {
      "cell_type": "code",
      "execution_count": null,
      "metadata": {
        "id": "N53h95z1z9T9",
        "outputId": "f76e39f3-b4b2-44c4-a7d4-836e640d8fbb",
        "colab": {
          "base_uri": "https://localhost:8080/"
        }
      },
      "outputs": [
        {
          "output_type": "execute_result",
          "data": {
            "text/plain": [
              "False"
            ]
          },
          "metadata": {},
          "execution_count": 8
        }
      ],
      "source": [
        "# Access the last item in a sequence\n",
        "tuple1[-1]"
      ]
    },
    {
      "cell_type": "code",
      "execution_count": null,
      "metadata": {
        "id": "y5VqjnKNz9T-",
        "outputId": "b0f656e3-b7f8-4ce7-e6d7-bfd781e6ecac",
        "colab": {
          "base_uri": "https://localhost:8080/"
        }
      },
      "outputs": [
        {
          "output_type": "execute_result",
          "data": {
            "text/plain": [
              "(3, 5, 6)"
            ]
          },
          "metadata": {},
          "execution_count": 9
        }
      ],
      "source": [
        "# Access a range of items in a sequence\n",
        "tuple1[:3]"
      ]
    },
    {
      "cell_type": "code",
      "execution_count": null,
      "metadata": {
        "id": "lFMT5rBqz9T_",
        "outputId": "40ec4b18-3a91-4296-855e-7e49017a77fb",
        "colab": {
          "base_uri": "https://localhost:8080/"
        }
      },
      "outputs": [
        {
          "output_type": "execute_result",
          "data": {
            "text/plain": [
              "['dog', 'cat', False]"
            ]
          },
          "metadata": {},
          "execution_count": 10
        }
      ],
      "source": [
        "# Access a range of items in a sequence\n",
        "list1[4:]"
      ]
    },
    {
      "cell_type": "code",
      "execution_count": null,
      "metadata": {
        "id": "--BnrDuyz9T_",
        "outputId": "d32c0601-2edb-4cc8-a2cf-bad2d57b4e4c",
        "colab": {
          "base_uri": "https://localhost:8080/",
          "height": 35
        }
      },
      "outputs": [
        {
          "output_type": "execute_result",
          "data": {
            "text/plain": [
              "'Jane'"
            ],
            "application/vnd.google.colaboratory.intrinsic+json": {
              "type": "string"
            }
          },
          "metadata": {},
          "execution_count": 11
        }
      ],
      "source": [
        "# Access an item in a dictionary\n",
        "dict1['name']"
      ]
    },
    {
      "cell_type": "code",
      "execution_count": null,
      "metadata": {
        "id": "Xt_sn02Lz9T_",
        "outputId": "fb3f3765-7734-4eda-d040-18fc264aec10",
        "colab": {
          "base_uri": "https://localhost:8080/",
          "height": 35
        }
      },
      "outputs": [
        {
          "output_type": "execute_result",
          "data": {
            "text/plain": [
              "'fish'"
            ],
            "application/vnd.google.colaboratory.intrinsic+json": {
              "type": "string"
            }
          },
          "metadata": {},
          "execution_count": 12
        }
      ],
      "source": [
        "# Access an element of a sequence in a dictionary\n",
        "dict1['fav_foods'][2]"
      ]
    },
    {
      "cell_type": "markdown",
      "source": [
        "#Basic operators - Slide 8"
      ],
      "metadata": {
        "id": "c7jFoJhebkJb"
      }
    },
    {
      "cell_type": "markdown",
      "metadata": {
        "id": "_ioItswUz9S2"
      },
      "source": [
        "En Python, existen diferentes tipos de **operadores** (símbolos especiales) que operan sobre diferentes valores. Algunos de los operadores básicos incluyen:\n",
        "\n",
        "- operadores aritméticos\n",
        "  - **`+`** (suma)\n",
        "  - **`-`** (resta)\n",
        "  - **`*`** (multiplicación)\n",
        "  - **`/`** (división)\n",
        "  - **`//`** (división entera)\n",
        "  - **`%`** (módulo)\n",
        "  - **`**`** (exponente)\n",
        "- operadores de asignación\n",
        "  - **`=`** (asignar un valor)\n",
        "  - **`+=`** (sumar y reasignar; incrementar)\n",
        "  - **`-=`** (restar y reasignar; decrementar)\n",
        "  - **`*=`** (multiplicar y reasignar)\n",
        "- operadores de comparación (devuelven `True` o `False`)\n",
        "  - **`==`** (igual a)\n",
        "  - **`!=`** (no igual a)\n",
        "  - **`<`** (menor que)\n",
        "  - **`<=`** (menor o igual que)\n",
        "  - **`>`** (mayor que)\n",
        "  - **`>=`** (mayor o igual que)\n",
        "- Operadores lógicos\n",
        "  - **`and`** (AND lógico)\n",
        "  - **`or`** (OR lógico)\n",
        "  - **`not`** (NOT lógico)\n",
        "\n",
        "Cuando se utilizan múltiples operadores en una única expresión, la **precedencia de operadores** determina qué partes de la expresión se evalúan en qué orden. Los operadores con mayor precedencia se evalúan primero (como PEMDAS en matemáticas). Los operadores con la misma precedencia se evalúan de izquierda a derecha.\n",
        "\n",
        "- `()` paréntesis, para agrupar\n",
        "- `**` exponente\n",
        "- `*`, `/` multiplicación y división\n",
        "- `+`, `-` suma y resta\n",
        "- `==`, `!=`, `<`, `<=`, `>`, `>=` comparaciones\n",
        "\n",
        "> Ver https://docs.python.org/3/reference/expressions.html#operator-precedence\n"
      ]
    },
    {
      "cell_type": "markdown",
      "source": [
        "##Operadores aritméticos"
      ],
      "metadata": {
        "id": "ipiFd8Nrdkhc"
      }
    },
    {
      "cell_type": "code",
      "execution_count": null,
      "metadata": {
        "id": "UFTAFmeJz9S6",
        "colab": {
          "base_uri": "https://localhost:8080/"
        },
        "outputId": "495f9b75-2a6f-491b-8beb-012b0db29d92"
      },
      "outputs": [
        {
          "output_type": "stream",
          "name": "stdout",
          "text": [
            "10\n"
          ]
        }
      ],
      "source": [
        "# Assigning some numbers to different variables\n",
        "\n",
        "num1 = 10\n",
        "num2 = -32\n",
        "num3 = 7.41\n",
        "num4 = -.6\n",
        "num5 = 7\n",
        "num6 = 3\n",
        "num7 = 11.11\n",
        "\n",
        "print(num1)"
      ]
    },
    {
      "cell_type": "code",
      "execution_count": null,
      "metadata": {
        "id": "Mn-lHGtOz9S-",
        "outputId": "b64978ff-c1ab-4d4b-9c7e-fda7b6048c1a",
        "colab": {
          "base_uri": "https://localhost:8080/"
        }
      },
      "outputs": [
        {
          "output_type": "execute_result",
          "data": {
            "text/plain": [
              "-22"
            ]
          },
          "metadata": {},
          "execution_count": 14
        }
      ],
      "source": [
        "# Addition\n",
        "\n",
        "#10 + -32\n",
        "num1 + num2"
      ]
    },
    {
      "cell_type": "code",
      "execution_count": null,
      "metadata": {
        "id": "LP3IcHmOz9TB",
        "outputId": "f09dddbd-7e2a-4b2b-a5e1-bbbf1a4ff2a7",
        "colab": {
          "base_uri": "https://localhost:8080/"
        }
      },
      "outputs": [
        {
          "output_type": "execute_result",
          "data": {
            "text/plain": [
              "-39.41"
            ]
          },
          "metadata": {},
          "execution_count": 15
        }
      ],
      "source": [
        "# Subtraction\n",
        "\n",
        "# -32 - 7.41\n",
        "num2 - num3"
      ]
    },
    {
      "cell_type": "code",
      "execution_count": null,
      "metadata": {
        "id": "e6s7qdxjz9TD",
        "outputId": "e84bd345-92da-4a67-e2b5-15db2c730d7a",
        "colab": {
          "base_uri": "https://localhost:8080/"
        }
      },
      "outputs": [
        {
          "output_type": "execute_result",
          "data": {
            "text/plain": [
              "-4.446"
            ]
          },
          "metadata": {},
          "execution_count": 16
        }
      ],
      "source": [
        "# Multiplication\n",
        "\n",
        "#7.41 * -0.6\n",
        "num3 * num4"
      ]
    },
    {
      "cell_type": "code",
      "execution_count": null,
      "metadata": {
        "id": "Y56kJ6a-z9TF",
        "outputId": "3670c69b-e792-4d6e-e5c2-81369420765d",
        "colab": {
          "base_uri": "https://localhost:8080/"
        }
      },
      "outputs": [
        {
          "output_type": "execute_result",
          "data": {
            "text/plain": [
              "3.3333333333333335"
            ]
          },
          "metadata": {},
          "execution_count": 17
        }
      ],
      "source": [
        "# Division\n",
        "# 10 / 3\n",
        "num1 / num6"
      ]
    },
    {
      "cell_type": "code",
      "source": [
        "# Floor Division\n",
        "# 10 // 3\n",
        "num1 // num6"
      ],
      "metadata": {
        "colab": {
          "base_uri": "https://localhost:8080/"
        },
        "id": "cYt7hZGNeR-B",
        "outputId": "f1b0a6c6-e9fc-4ba9-c07c-2cfd98fc5f47"
      },
      "execution_count": null,
      "outputs": [
        {
          "output_type": "execute_result",
          "data": {
            "text/plain": [
              "3"
            ]
          },
          "metadata": {},
          "execution_count": 18
        }
      ]
    },
    {
      "cell_type": "code",
      "execution_count": null,
      "metadata": {
        "id": "Doocw6uGz9TG",
        "outputId": "28102ec7-ce22-4153-d368-a0b249484717",
        "colab": {
          "base_uri": "https://localhost:8080/"
        }
      },
      "outputs": [
        {
          "output_type": "execute_result",
          "data": {
            "text/plain": [
              "343"
            ]
          },
          "metadata": {},
          "execution_count": 19
        }
      ],
      "source": [
        "# Exponent\n",
        "# 7 ^ 3\n",
        "num5 ** num6"
      ]
    },
    {
      "cell_type": "code",
      "source": [
        "# Module\n",
        "# 10 % 3\n",
        "num1 % num6"
      ],
      "metadata": {
        "colab": {
          "base_uri": "https://localhost:8080/"
        },
        "id": "5t3wCyMod08G",
        "outputId": "3ea2d544-a89a-489d-b045-e4afc108908a"
      },
      "execution_count": null,
      "outputs": [
        {
          "output_type": "execute_result",
          "data": {
            "text/plain": [
              "1"
            ]
          },
          "metadata": {},
          "execution_count": 20
        }
      ]
    },
    {
      "cell_type": "markdown",
      "source": [
        "##Operadores de asignación"
      ],
      "metadata": {
        "id": "Le02tmUjeesL"
      }
    },
    {
      "cell_type": "code",
      "source": [
        "num1 = 8\n",
        "\n",
        "num1"
      ],
      "metadata": {
        "colab": {
          "base_uri": "https://localhost:8080/"
        },
        "id": "6Fvuq3JOBjVK",
        "outputId": "cd7ead0e-b407-4f7c-a6f5-1db1b5d66947"
      },
      "execution_count": null,
      "outputs": [
        {
          "output_type": "execute_result",
          "data": {
            "text/plain": [
              "8"
            ]
          },
          "metadata": {},
          "execution_count": 21
        }
      ]
    },
    {
      "cell_type": "code",
      "execution_count": null,
      "metadata": {
        "id": "p1DPj01wz9TH",
        "outputId": "378d5faa-805a-4d0d-acbd-96042d56bef9",
        "colab": {
          "base_uri": "https://localhost:8080/"
        }
      },
      "outputs": [
        {
          "output_type": "execute_result",
          "data": {
            "text/plain": [
              "12"
            ]
          },
          "metadata": {},
          "execution_count": 22
        }
      ],
      "source": [
        "# Increment existing variable\n",
        "num1 += 4\n",
        "num1"
      ]
    },
    {
      "cell_type": "code",
      "execution_count": null,
      "metadata": {
        "id": "7hBW1mW6z9TI",
        "outputId": "caed3ff3-ab5e-473d-da93-44717f45b909",
        "colab": {
          "base_uri": "https://localhost:8080/"
        }
      },
      "outputs": [
        {
          "output_type": "execute_result",
          "data": {
            "text/plain": [
              "10"
            ]
          },
          "metadata": {},
          "execution_count": 23
        }
      ],
      "source": [
        "# Decrement existing variable\n",
        "num1 -= 2\n",
        "num1"
      ]
    },
    {
      "cell_type": "code",
      "execution_count": null,
      "metadata": {
        "id": "yT2oSZNdz9TJ",
        "outputId": "15514b45-e526-4701-9d65-55880147eca5",
        "colab": {
          "base_uri": "https://localhost:8080/"
        }
      },
      "outputs": [
        {
          "output_type": "execute_result",
          "data": {
            "text/plain": [
              "50"
            ]
          },
          "metadata": {},
          "execution_count": 24
        }
      ],
      "source": [
        "# Multiply & re-assign\n",
        "num1 *= 5\n",
        "num1"
      ]
    },
    {
      "cell_type": "code",
      "execution_count": null,
      "metadata": {
        "id": "pL7ZI5Uzz9TK",
        "outputId": "935041d9-9eda-4835-ff3a-3fef382f3e33",
        "colab": {
          "base_uri": "https://localhost:8080/"
        }
      },
      "outputs": [
        {
          "output_type": "execute_result",
          "data": {
            "text/plain": [
              "-187.12"
            ]
          },
          "metadata": {},
          "execution_count": 25
        }
      ],
      "source": [
        "# Assign the value of an expression to a variable\n",
        "# 10 + -32 * 7.41\n",
        "num8 = num1 + num2 * num3\n",
        "num8"
      ]
    },
    {
      "cell_type": "markdown",
      "source": [
        "##Operadores comparativos"
      ],
      "metadata": {
        "id": "XwE-0WL0es4j"
      }
    },
    {
      "cell_type": "code",
      "execution_count": null,
      "metadata": {
        "id": "vC_N61_Rz9TL",
        "outputId": "7e1dd3e5-d2fa-48b0-c26b-fd4eed0f3fc7",
        "colab": {
          "base_uri": "https://localhost:8080/"
        }
      },
      "outputs": [
        {
          "output_type": "execute_result",
          "data": {
            "text/plain": [
              "True"
            ]
          },
          "metadata": {},
          "execution_count": 26
        }
      ],
      "source": [
        "# Are these two expressions equal to each other?\n",
        "#10 + -32 == -22\n",
        "num1 = 10\n",
        "num2 = -32\n",
        "num5 = -21\n",
        "\n",
        "num1 + num2 != num5"
      ]
    },
    {
      "cell_type": "code",
      "execution_count": null,
      "metadata": {
        "id": "pX-OigaDz9TN",
        "outputId": "05de2bc2-029a-42d0-e96c-0e536b63e478",
        "colab": {
          "base_uri": "https://localhost:8080/"
        }
      },
      "outputs": [
        {
          "output_type": "execute_result",
          "data": {
            "text/plain": [
              "True"
            ]
          },
          "metadata": {},
          "execution_count": 27
        }
      ],
      "source": [
        "# Are these two expressions not equal to each other?\n",
        "num2 != num5"
      ]
    },
    {
      "cell_type": "code",
      "execution_count": null,
      "metadata": {
        "id": "ypyOtn4Iz9TO",
        "outputId": "bde97551-9de3-4499-ca49-03d7b2c4d2b7",
        "colab": {
          "base_uri": "https://localhost:8080/"
        }
      },
      "outputs": [
        {
          "output_type": "execute_result",
          "data": {
            "text/plain": [
              "True"
            ]
          },
          "metadata": {},
          "execution_count": 28
        }
      ],
      "source": [
        "# Is the first expression less than the second expression?\n",
        "num5 = 1\n",
        "num6 = 3\n",
        "\n",
        "num5 < num6"
      ]
    },
    {
      "cell_type": "code",
      "execution_count": null,
      "metadata": {
        "id": "I10nPKytz9TP",
        "outputId": "6cc14700-79a0-4875-afc5-c0b8391e4ea8",
        "colab": {
          "base_uri": "https://localhost:8080/"
        }
      },
      "outputs": [
        {
          "output_type": "execute_result",
          "data": {
            "text/plain": [
              "True"
            ]
          },
          "metadata": {},
          "execution_count": 29
        }
      ],
      "source": [
        "# Is this expression True?\n",
        "5 > 3 > 1"
      ]
    },
    {
      "cell_type": "code",
      "execution_count": null,
      "metadata": {
        "id": "krCT_50Nz9TQ",
        "outputId": "c7cbb76f-ca00-47db-dec8-a20a0a153ebf",
        "colab": {
          "base_uri": "https://localhost:8080/"
        }
      },
      "outputs": [
        {
          "output_type": "execute_result",
          "data": {
            "text/plain": [
              "True"
            ]
          },
          "metadata": {},
          "execution_count": 30
        }
      ],
      "source": [
        "# Is this expression True?\n",
        "5 > 3 < 4 == 3 + 1"
      ]
    },
    {
      "cell_type": "markdown",
      "source": [
        "##Operadoress lógicos"
      ],
      "metadata": {
        "id": "IdC4twAvfA-9"
      }
    },
    {
      "cell_type": "code",
      "source": [
        "bool_true = True\n",
        "bool_false = False"
      ],
      "metadata": {
        "id": "5mAP0z2JfDYx"
      },
      "execution_count": null,
      "outputs": []
    },
    {
      "cell_type": "code",
      "source": [
        "#And\n",
        "True and True"
      ],
      "metadata": {
        "colab": {
          "base_uri": "https://localhost:8080/"
        },
        "id": "1lPbJOvugIRn",
        "outputId": "5b291045-480e-49fd-a6ee-90c6c5455752"
      },
      "execution_count": null,
      "outputs": [
        {
          "output_type": "execute_result",
          "data": {
            "text/plain": [
              "True"
            ]
          },
          "metadata": {},
          "execution_count": 32
        }
      ]
    },
    {
      "cell_type": "code",
      "source": [
        "#And\n",
        "bool_true and bool_false"
      ],
      "metadata": {
        "colab": {
          "base_uri": "https://localhost:8080/"
        },
        "id": "qtdXedtlgTom",
        "outputId": "395b42a1-6af8-40a7-d2dc-d7aff9b070f9"
      },
      "execution_count": null,
      "outputs": [
        {
          "output_type": "execute_result",
          "data": {
            "text/plain": [
              "False"
            ]
          },
          "metadata": {},
          "execution_count": 33
        }
      ]
    },
    {
      "cell_type": "code",
      "source": [
        "bool_false or bool_true"
      ],
      "metadata": {
        "colab": {
          "base_uri": "https://localhost:8080/"
        },
        "id": "8mqJKaLijknp",
        "outputId": "b33de26e-16b8-461d-989e-94b4f6ac18bd"
      },
      "execution_count": null,
      "outputs": [
        {
          "output_type": "execute_result",
          "data": {
            "text/plain": [
              "True"
            ]
          },
          "metadata": {},
          "execution_count": 34
        }
      ]
    },
    {
      "cell_type": "code",
      "source": [
        "bool_false or False"
      ],
      "metadata": {
        "colab": {
          "base_uri": "https://localhost:8080/"
        },
        "id": "cCr4GqoSj0Ax",
        "outputId": "0288bc55-4597-4a20-84fd-7a2da805bbfa"
      },
      "execution_count": null,
      "outputs": [
        {
          "output_type": "execute_result",
          "data": {
            "text/plain": [
              "False"
            ]
          },
          "metadata": {},
          "execution_count": 35
        }
      ]
    },
    {
      "cell_type": "code",
      "source": [
        "not(True)"
      ],
      "metadata": {
        "colab": {
          "base_uri": "https://localhost:8080/"
        },
        "id": "6wfPz9_ckHOh",
        "outputId": "fd8244b0-6803-4579-be68-09df3bad11ea"
      },
      "execution_count": null,
      "outputs": [
        {
          "output_type": "execute_result",
          "data": {
            "text/plain": [
              "False"
            ]
          },
          "metadata": {},
          "execution_count": 36
        }
      ]
    },
    {
      "cell_type": "code",
      "source": [
        "not(False)"
      ],
      "metadata": {
        "colab": {
          "base_uri": "https://localhost:8080/"
        },
        "id": "vgUuQFo7kJaZ",
        "outputId": "a7e3ae13-45ca-4fa9-dddf-fdd99d3a8ee0"
      },
      "execution_count": null,
      "outputs": [
        {
          "output_type": "execute_result",
          "data": {
            "text/plain": [
              "True"
            ]
          },
          "metadata": {},
          "execution_count": 37
        }
      ]
    },
    {
      "cell_type": "markdown",
      "source": [
        "##Operaciones con cadenas de texto"
      ],
      "metadata": {
        "id": "YhJ4l6V8kNBh"
      }
    },
    {
      "cell_type": "code",
      "execution_count": null,
      "metadata": {
        "collapsed": true,
        "id": "IAYVEohpz9Ta"
      },
      "outputs": [],
      "source": [
        "# Note: Subtraction, division, and decrement operators do not apply to strings."
      ]
    },
    {
      "cell_type": "code",
      "execution_count": null,
      "metadata": {
        "collapsed": true,
        "id": "Y9KUmshcz9TR"
      },
      "outputs": [],
      "source": [
        "# Assign some strings to different variables\n",
        "simple_string1 = 'an example'\n",
        "simple_string2 = \"oranges \""
      ]
    },
    {
      "cell_type": "code",
      "execution_count": null,
      "metadata": {
        "id": "u8XtMwQ9z9TT",
        "outputId": "0c48f33d-e4ff-45db-a7bf-a55977057cca",
        "colab": {
          "base_uri": "https://localhost:8080/",
          "height": 35
        }
      },
      "outputs": [
        {
          "output_type": "execute_result",
          "data": {
            "text/plain": [
              "'an example of using the + operator'"
            ],
            "application/vnd.google.colaboratory.intrinsic+json": {
              "type": "string"
            }
          },
          "metadata": {},
          "execution_count": 40
        }
      ],
      "source": [
        "# Addition\n",
        "simple_string1 + ' of using the + operator'"
      ]
    },
    {
      "cell_type": "code",
      "execution_count": null,
      "metadata": {
        "id": "1yaawvR8z9TU",
        "outputId": "30979a44-f34f-42a2-ce19-ccaecb86fafd",
        "colab": {
          "base_uri": "https://localhost:8080/",
          "height": 35
        }
      },
      "outputs": [
        {
          "output_type": "execute_result",
          "data": {
            "text/plain": [
              "'an example'"
            ],
            "application/vnd.google.colaboratory.intrinsic+json": {
              "type": "string"
            }
          },
          "metadata": {},
          "execution_count": 41
        }
      ],
      "source": [
        "# Notice that the string was not modified\n",
        "simple_string1"
      ]
    },
    {
      "cell_type": "code",
      "execution_count": null,
      "metadata": {
        "id": "Cnfmb7PFz9TW",
        "outputId": "c2d6d541-5386-4e6f-a37e-aced647b72a7",
        "colab": {
          "base_uri": "https://localhost:8080/",
          "height": 35
        }
      },
      "outputs": [
        {
          "output_type": "execute_result",
          "data": {
            "text/plain": [
              "'oranges oranges oranges oranges '"
            ],
            "application/vnd.google.colaboratory.intrinsic+json": {
              "type": "string"
            }
          },
          "metadata": {},
          "execution_count": 42
        }
      ],
      "source": [
        "# Multiplication\n",
        "simple_string2 * 4"
      ]
    },
    {
      "cell_type": "code",
      "execution_count": null,
      "metadata": {
        "id": "-ip3-I6Uz9TX",
        "outputId": "9fc8be8b-5073-4ffb-9f0a-479778872753",
        "colab": {
          "base_uri": "https://localhost:8080/",
          "height": 35
        }
      },
      "outputs": [
        {
          "output_type": "execute_result",
          "data": {
            "text/plain": [
              "'oranges '"
            ],
            "application/vnd.google.colaboratory.intrinsic+json": {
              "type": "string"
            }
          },
          "metadata": {},
          "execution_count": 43
        }
      ],
      "source": [
        "# This string wasn't modified either\n",
        "simple_string2"
      ]
    },
    {
      "cell_type": "code",
      "execution_count": null,
      "metadata": {
        "id": "OtSbiOQuz9TY",
        "outputId": "862d1e43-e384-4276-df58-fc4306a69310",
        "colab": {
          "base_uri": "https://localhost:8080/"
        }
      },
      "outputs": [
        {
          "output_type": "execute_result",
          "data": {
            "text/plain": [
              "False"
            ]
          },
          "metadata": {},
          "execution_count": 44
        }
      ],
      "source": [
        "# Are these two expressions equal to each other?\n",
        "simple_string1 == simple_string2"
      ]
    },
    {
      "cell_type": "code",
      "execution_count": null,
      "metadata": {
        "id": "y40j3jTmz9TZ",
        "outputId": "82e77140-2551-4b22-9f7b-8a0c4b98f655",
        "colab": {
          "base_uri": "https://localhost:8080/"
        }
      },
      "outputs": [
        {
          "output_type": "execute_result",
          "data": {
            "text/plain": [
              "True"
            ]
          },
          "metadata": {},
          "execution_count": 45
        }
      ],
      "source": [
        "# Are these two expressions equal to each other?\n",
        "simple_string1 == 'an example'"
      ]
    },
    {
      "cell_type": "code",
      "source": [
        "# Access a range of items in a sequence\n",
        "simple_string1[3:8]"
      ],
      "metadata": {
        "colab": {
          "base_uri": "https://localhost:8080/",
          "height": 35
        },
        "id": "haK9Mb7PpvO1",
        "outputId": "8966fe0f-b508-4e06-8fe2-ec25a1d94bb0"
      },
      "execution_count": null,
      "outputs": [
        {
          "output_type": "execute_result",
          "data": {
            "text/plain": [
              "'examp'"
            ],
            "application/vnd.google.colaboratory.intrinsic+json": {
              "type": "string"
            }
          },
          "metadata": {},
          "execution_count": 46
        }
      ]
    },
    {
      "cell_type": "code",
      "execution_count": null,
      "metadata": {
        "id": "6tDY0OJSz9TZ",
        "outputId": "85001404-b5a2-4f9c-a902-96c77765f671",
        "colab": {
          "base_uri": "https://localhost:8080/",
          "height": 35
        }
      },
      "outputs": [
        {
          "output_type": "execute_result",
          "data": {
            "text/plain": [
              "'an example that re-assigned the original string'"
            ],
            "application/vnd.google.colaboratory.intrinsic+json": {
              "type": "string"
            }
          },
          "metadata": {},
          "execution_count": 47
        }
      ],
      "source": [
        "# Add and re-assign\n",
        "simple_string1 += ' that re-assigned the original string'\n",
        "simple_string1"
      ]
    },
    {
      "cell_type": "code",
      "execution_count": null,
      "metadata": {
        "id": "lLYJYgH7z9Ta",
        "outputId": "bc3bf0d6-0596-4a02-969a-8c25a6cf4948",
        "colab": {
          "base_uri": "https://localhost:8080/",
          "height": 35
        }
      },
      "outputs": [
        {
          "output_type": "execute_result",
          "data": {
            "text/plain": [
              "'oranges oranges oranges '"
            ],
            "application/vnd.google.colaboratory.intrinsic+json": {
              "type": "string"
            }
          },
          "metadata": {},
          "execution_count": 48
        }
      ],
      "source": [
        "# Multiply and re-assign\n",
        "simple_string2 *= 3\n",
        "simple_string2"
      ]
    },
    {
      "cell_type": "markdown",
      "source": [
        "##Operaciones con estructuras de datos\n"
      ],
      "metadata": {
        "id": "laSWaiAfoVFa"
      }
    },
    {
      "cell_type": "code",
      "execution_count": null,
      "metadata": {
        "id": "yPULxYhzz9Tf",
        "outputId": "cd7c6ac5-bc49-49ae-ef4b-529d3d0ce837",
        "colab": {
          "base_uri": "https://localhost:8080/"
        }
      },
      "outputs": [
        {
          "output_type": "execute_result",
          "data": {
            "text/plain": [
              "[3, 5, 6, 3, 'dog', 'cat', False, 5, 'grapes']"
            ]
          },
          "metadata": {},
          "execution_count": 49
        }
      ],
      "source": [
        "# Add and re-assign\n",
        "list1 += [5, 'grapes']\n",
        "list1"
      ]
    },
    {
      "cell_type": "code",
      "execution_count": null,
      "metadata": {
        "id": "NOtY-9zUz9Tg",
        "outputId": "e5b8f278-637c-4679-ab04-69256938f708",
        "colab": {
          "base_uri": "https://localhost:8080/"
        }
      },
      "outputs": [
        {
          "output_type": "execute_result",
          "data": {
            "text/plain": [
              "(3, 5, 6, 3, 'dog', 'cat', False, 5, 'grapes')"
            ]
          },
          "metadata": {},
          "execution_count": 50
        }
      ],
      "source": [
        "# Add and re-assign\n",
        "tuple1 += (5, 'grapes')\n",
        "tuple1"
      ]
    },
    {
      "cell_type": "code",
      "execution_count": null,
      "metadata": {
        "id": "JwdrjvW5z9Tg",
        "outputId": "c75a96be-7774-4a1c-b153-4d668ab74b6b",
        "colab": {
          "base_uri": "https://localhost:8080/"
        }
      },
      "outputs": [
        {
          "output_type": "execute_result",
          "data": {
            "text/plain": [
              "[1, 2, 3, 4, 1, 2, 3, 4]"
            ]
          },
          "metadata": {},
          "execution_count": 51
        }
      ],
      "source": [
        "# Multiply\n",
        "[1, 2, 3, 4] * 2"
      ]
    },
    {
      "cell_type": "code",
      "execution_count": null,
      "metadata": {
        "id": "WPZltvN6z9Th",
        "outputId": "0282f893-ec7f-42c5-8a95-0645e47512c5",
        "colab": {
          "base_uri": "https://localhost:8080/"
        }
      },
      "outputs": [
        {
          "output_type": "execute_result",
          "data": {
            "text/plain": [
              "(1, 2, 3, 4, 1, 2, 3, 4, 1, 2, 3, 4)"
            ]
          },
          "metadata": {},
          "execution_count": 52
        }
      ],
      "source": [
        "# Multiply\n",
        "(1, 2, 3, 4) * 3"
      ]
    },
    {
      "cell_type": "markdown",
      "source": [
        "#Estructuras de control condicional - Diapositiva 10"
      ],
      "metadata": {
        "id": "YL4sqJ0kqxe1"
      }
    },
    {
      "cell_type": "markdown",
      "source": [
        "Python provides 3 conditional statements, which can be used to determine the program flow:\n",
        "\n",
        "- if statement: This statement allows you to execute a block of code if a specified condition is true. If the condition is false, the block of code is skipped.\n",
        "\n",
        "- if-else statement: With this statement, you can execute one block of code if a condition is true, and another block of code if the condition is false. It provides a way to handle two possible outcomes based on a condition.\n",
        "\n",
        "- if-elif-else statement: This statement is useful when you have multiple conditions to check. It allows you to test multiple conditions and execute different blocks of code based on the first condition that evaluates to true. If none of the conditions are true, an optional else block can be executed as a default action."
      ],
      "metadata": {
        "id": "18fTm5OprJBS"
      }
    },
    {
      "cell_type": "code",
      "source": [
        "#If structure\n",
        "\n",
        "day = 25\n",
        "month = 'December'\n",
        "if (day == 25) and (month  == 'December'):\n",
        "    print('Merry Christmas!')\n"
      ],
      "metadata": {
        "colab": {
          "base_uri": "https://localhost:8080/"
        },
        "id": "vdGBGXkGrGc_",
        "outputId": "1f98bc33-cf33-4b2f-af60-ffb64ead635f"
      },
      "execution_count": null,
      "outputs": [
        {
          "output_type": "stream",
          "name": "stdout",
          "text": [
            "Merry Christmas!\n"
          ]
        }
      ]
    },
    {
      "cell_type": "code",
      "source": [
        "#Elif structure\n",
        "day = 13\n",
        "month = 'November'\n",
        "if (month   == 'November'):\n",
        "   if not(day != 13):\n",
        "        print('Happy Birthday')\n",
        "   elif day != 13:\n",
        "        print('It’s my birthday month')"
      ],
      "metadata": {
        "colab": {
          "base_uri": "https://localhost:8080/"
        },
        "id": "ExwO11a0tQUx",
        "outputId": "2cc5b400-1084-4bf5-fd71-4d8cf6b31748"
      },
      "execution_count": null,
      "outputs": [
        {
          "output_type": "stream",
          "name": "stdout",
          "text": [
            "Happy Birthday\n"
          ]
        }
      ]
    },
    {
      "cell_type": "code",
      "source": [
        "#Else Structure\n",
        "day = 8\n",
        "month = 'October'\n",
        "if (month  == 'December'):\n",
        "    if (day == 24) or (day  == 31):\n",
        "        print('Today is a special day')\n",
        "else:\n",
        "     print('Nothing special')"
      ],
      "metadata": {
        "colab": {
          "base_uri": "https://localhost:8080/"
        },
        "id": "gnToqQ1wtU7p",
        "outputId": "0c1176e3-710d-4596-8e7d-e462a7582307"
      },
      "execution_count": null,
      "outputs": [
        {
          "output_type": "stream",
          "name": "stdout",
          "text": [
            "Nothing special\n"
          ]
        }
      ]
    },
    {
      "cell_type": "markdown",
      "source": [
        "#Estructuras de control de bucle - Diapositiva 11"
      ],
      "metadata": {
        "id": "XBsxHViIvcds"
      }
    },
    {
      "cell_type": "markdown",
      "source": [
        "Las sentencias de iteración o bucles te permiten ejecutar un bloque de código repetidamente basado en ciertas condiciones o sobre una secuencia de elementos.\n",
        "\n",
        "- Bucle for:\n",
        "  - El bucle for itera sobre una secuencia de elementos uno por uno.\n",
        "  - Se utiliza comúnmente cuando conoces el número de iteraciones o cuando deseas iterar sobre elementos de una secuencia como listas, tuplas, cadenas o rangos.\n",
        "\n",
        "- Bucle while:\n",
        "  - El bucle while repite un bloque de código mientras una condición especificada se evalúa como verdadera.\n",
        "  - Es útil cuando no conoces el número de iteraciones de antemano o cuando necesitas repetir una acción hasta que se cumpla una cierta condición.\n"
      ],
      "metadata": {
        "id": "uRtUUiWpwEsV"
      }
    },
    {
      "cell_type": "code",
      "source": [
        "#For Example 1\n",
        "\n",
        "sum = 0\n",
        "\n",
        "for i in range (1, 25 + 1):\n",
        "    sum += 2 * i * (i - 3)\n",
        "print(sum)"
      ],
      "metadata": {
        "colab": {
          "base_uri": "https://localhost:8080/"
        },
        "id": "XXEa-BJQxFGw",
        "outputId": "ce8703a6-ca1f-4dff-e624-07883e2d5137"
      },
      "execution_count": null,
      "outputs": [
        {
          "output_type": "stream",
          "name": "stdout",
          "text": [
            "9100\n"
          ]
        }
      ]
    },
    {
      "cell_type": "code",
      "source": [
        "#For Example 2\n",
        "Colors = ['Rojo','Azul','Verde','Blanco']\n",
        "\n",
        "for color in Colors:\n",
        "    print(color)"
      ],
      "metadata": {
        "colab": {
          "base_uri": "https://localhost:8080/"
        },
        "id": "d6LHQgYdxP0U",
        "outputId": "fa493d70-875b-427e-acbd-b9af473a11b9"
      },
      "execution_count": null,
      "outputs": [
        {
          "output_type": "stream",
          "name": "stdout",
          "text": [
            "Rojo\n",
            "Azul\n",
            "Verde\n",
            "Blanco\n"
          ]
        }
      ]
    },
    {
      "cell_type": "code",
      "source": [
        "#While example 1\n",
        "sum = 0\n",
        "i = 0\n",
        "while (i <= 25):\n",
        "    sum += 2 * i * (i - 3)\n",
        "    i += 1\n",
        "print(sum)"
      ],
      "metadata": {
        "colab": {
          "base_uri": "https://localhost:8080/"
        },
        "id": "QMQ5SwZixRls",
        "outputId": "37d136b6-e602-4f83-fd06-d05907356660"
      },
      "execution_count": null,
      "outputs": [
        {
          "output_type": "stream",
          "name": "stdout",
          "text": [
            "9100\n"
          ]
        }
      ]
    },
    {
      "cell_type": "code",
      "source": [
        "#While example 2\n",
        "i = 0\n",
        "levels = 5\n",
        "while (i <= levels ):\n",
        "    print('*' *  i)\n",
        "    i += 1"
      ],
      "metadata": {
        "colab": {
          "base_uri": "https://localhost:8080/"
        },
        "id": "xt7ZdOG9xXlF",
        "outputId": "b9be42d9-5e4f-4942-f183-0c1b8187b188"
      },
      "execution_count": null,
      "outputs": [
        {
          "output_type": "stream",
          "name": "stdout",
          "text": [
            "\n",
            "*\n",
            "**\n",
            "***\n",
            "****\n",
            "*****\n"
          ]
        }
      ]
    },
    {
      "cell_type": "markdown",
      "source": [
        "#Actividad - Diapositiva 13"
      ],
      "metadata": {
        "id": "D0V3S5Knxg68"
      }
    },
    {
      "cell_type": "markdown",
      "source": [
        "Usted recibe dos listas que contienen los nombres de cinco grupos de animales distintos junto con sus respectivos conteos. El objetivo es crear un programa que identifique cuál es el grupo con la mayor y la menor cantidad de individuos utilizando estructuras de control.\n",
        "- Caninos: 564\n",
        "- Felinos: 334\n",
        "- Aves: 899\n",
        "- Reptiles: 900\n",
        "- Roedores: 321"
      ],
      "metadata": {
        "id": "2WPBqgGmx7f4"
      }
    },
    {
      "cell_type": "code",
      "source": [
        "# Plantee una solución aqui:\n",
        "\n",
        "\n",
        "\n",
        "\n"
      ],
      "metadata": {
        "id": "XQKZsTXJxohj"
      },
      "execution_count": null,
      "outputs": []
    },
    {
      "cell_type": "markdown",
      "source": [
        "#Funciones - Diapositiva 14"
      ],
      "metadata": {
        "id": "PkGMtWK0_9Yl"
      }
    },
    {
      "cell_type": "markdown",
      "source": [
        "Una función es un bloque de código que realiza una tarea específica y puede ser ejecutado múltiples veces, Se definen con la palabra def\n",
        "y tienen la siguiente forma:\n",
        "*def  nombre(param1, param2, param3…):*\n"
      ],
      "metadata": {
        "id": "fvIopDRxAKKY"
      }
    },
    {
      "cell_type": "code",
      "source": [
        "#Ejmplo Básico de suma\n",
        "def suma(a,b):\n",
        "    resultado = a + b\n",
        "    return resultado\n",
        "\n",
        "suma(13,8)"
      ],
      "metadata": {
        "colab": {
          "base_uri": "https://localhost:8080/"
        },
        "id": "wwU9p3o0AT0Z",
        "outputId": "216fb19a-2c9e-4c5f-8afb-d5d1931ee2d6"
      },
      "execution_count": null,
      "outputs": [
        {
          "output_type": "execute_result",
          "data": {
            "text/plain": [
              "21"
            ]
          },
          "metadata": {},
          "execution_count": 61
        }
      ]
    },
    {
      "cell_type": "code",
      "source": [
        "#Ejemplo de suma con 3 parametros\n",
        "def suma(a,b,c):\n",
        "    return a + b + c\n",
        "\n",
        "suma(13,8,21)"
      ],
      "metadata": {
        "colab": {
          "base_uri": "https://localhost:8080/"
        },
        "id": "7CWxPuCyIbN4",
        "outputId": "6002b844-51b8-41ea-e323-68ad38c1961f"
      },
      "execution_count": null,
      "outputs": [
        {
          "output_type": "execute_result",
          "data": {
            "text/plain": [
              "42"
            ]
          },
          "metadata": {},
          "execution_count": 62
        }
      ]
    },
    {
      "cell_type": "code",
      "source": [
        "#Función para crear una matriz\n",
        "def create_matrix(rows,columns):\n",
        "    matrix = []\n",
        "    n = 0;\n",
        "    for j in range(rows):\n",
        "        row = []\n",
        "        for i in range(columns):\n",
        "            row.append(n)\n",
        "            n += 1\n",
        "        matrix.append(row)\n",
        "    return matrix\n",
        "\n",
        "matriz = create_matrix(8,8)\n"
      ],
      "metadata": {
        "id": "dQh09hL4IlkQ"
      },
      "execution_count": null,
      "outputs": []
    },
    {
      "cell_type": "markdown",
      "source": [
        "# Funciones y métodos integrados de Python - Diapositiva 15"
      ],
      "metadata": {
        "id": "1QQbrVG2QMKE"
      }
    },
    {
      "cell_type": "markdown",
      "metadata": {
        "id": "2tHqUfwzz9T_"
      },
      "source": [
        "Una **función** es un objeto de Python que puedes \"llamar\" para **realizar una acción** o calcular y **devolver otro objeto**. Llamas a una función colocando paréntesis a la derecha del nombre de la función. Algunas funciones te permiten pasar **argumentos** dentro de los paréntesis (separando múltiples argumentos con una coma). Dentro de la función, estos argumentos se tratan como variables.\n",
        "\n",
        "Python tiene varias funciones integradas útiles para ayudarte a trabajar con diferentes objetos y/o tu entorno. Aquí tienes una pequeña muestra de ellas:\n",
        "\n",
        "- **`type(obj)`** para determinar el tipo de un objeto\n",
        "- **`len(container)`** para determinar cuántos elementos hay en un contenedor\n",
        "- **`callable(obj)`** para determinar si un objeto es callable\n",
        "- **`sorted(container)`** para devolver una nueva lista de un contenedor, con los elementos ordenados\n",
        "- **`sum(container)`** para calcular la suma de un contenedor de números\n",
        "- **`min(container)`** para determinar el elemento más pequeño en un contenedor\n",
        "- **`max(container)`** para determinar el elemento más grande en un contenedor\n",
        "- **`abs(number)`** para determinar el valor absoluto de un número\n",
        "- **`repr(obj)`** para devolver una representación en cadena de un objeto\n",
        "\n",
        "> Lista completa de funciones integradas: https://docs.python.org/3/library/functions.html\n",
        "\n",
        "Python tambien provee varios métodos para trabajar con listas, un método es una función asociada a un objeto específico (o a una clase) que actúa sobre dicho objeto.\n",
        "\n",
        "Algunuos de los más utilizados son:\n",
        "\n",
        "- **`append(element)`**: Agrega un elemento al final de la lista. Modifica la lista original.\n",
        "\n",
        "- **`insert(index, element)`**: Inserta un elemento en la posición especificada. Los elementos a la derecha del índice se desplazan hacia la derecha para hacer espacio para el nuevo elemento. Modifica la lista original.\n",
        "\n",
        "- **`pop([index])`**: Elimina y devuelve el elemento en la posición especificada. Si no se especifica un índice, elimina y devuelve el último elemento de la lista. Modifica la lista original.\n",
        "\n",
        "- **`clear()`**: Elimina todos los elementos de la lista, dejándola vacía. Modifica la lista original.\n",
        "\n",
        "- **`sort(key=None, reverse=False)`**: Ordena los elementos de la lista en su lugar. Puede tomar dos argumentos opcionales:\n",
        "  - `key`: Una función que se utilizará para personalizar el ordenamiento (por ejemplo, `str.lower` para ordenar cadenas en minúsculas).\n",
        "  - `reverse`: Un booleano que indica si se debe ordenar en orden descendente o no (por defecto es `False`, es decir, orden ascendente). Modifica la lista original.\n",
        "\n",
        "Es importante tener en cuenta que `append()`, `insert()`, `pop()`, `clear()` y `sort()` modifican la lista original."
      ]
    },
    {
      "cell_type": "code",
      "execution_count": null,
      "metadata": {
        "id": "1H1Zu7byz9UA",
        "outputId": "761e89ea-a1f8-454d-ca30-6926a6a3f219",
        "colab": {
          "base_uri": "https://localhost:8080/"
        }
      },
      "outputs": [
        {
          "output_type": "execute_result",
          "data": {
            "text/plain": [
              "str"
            ]
          },
          "metadata": {},
          "execution_count": 64
        }
      ],
      "source": [
        "# Use the type() function to determine the type of an object\n",
        "type(simple_string1)"
      ]
    },
    {
      "cell_type": "code",
      "execution_count": null,
      "metadata": {
        "id": "p9OVwW5Xz9UA",
        "outputId": "1062bf02-12ff-4bfd-c359-a620c8ed7eb3",
        "colab": {
          "base_uri": "https://localhost:8080/"
        }
      },
      "outputs": [
        {
          "output_type": "execute_result",
          "data": {
            "text/plain": [
              "3"
            ]
          },
          "metadata": {},
          "execution_count": 65
        }
      ],
      "source": [
        "# Use the len() function to determine how many items are in a container\n",
        "len(dict1)"
      ]
    },
    {
      "cell_type": "code",
      "execution_count": null,
      "metadata": {
        "id": "ABUPtL6dz9UA",
        "outputId": "1cc62b0d-99ac-40e9-c617-b1eea6ab1f7d",
        "colab": {
          "base_uri": "https://localhost:8080/"
        }
      },
      "outputs": [
        {
          "output_type": "execute_result",
          "data": {
            "text/plain": [
              "24"
            ]
          },
          "metadata": {},
          "execution_count": 66
        }
      ],
      "source": [
        "# Use the len() function to determine how many items are in a container\n",
        "len(simple_string2)"
      ]
    },
    {
      "cell_type": "code",
      "execution_count": null,
      "metadata": {
        "id": "PHD94R_wz9UA",
        "outputId": "3b91b057-3d48-405d-97fb-2c7394c71d65",
        "colab": {
          "base_uri": "https://localhost:8080/"
        }
      },
      "outputs": [
        {
          "output_type": "execute_result",
          "data": {
            "text/plain": [
              "True"
            ]
          },
          "metadata": {},
          "execution_count": 67
        }
      ],
      "source": [
        "# Use the callable() function to determine if an object is callable\n",
        "callable(len)"
      ]
    },
    {
      "cell_type": "code",
      "execution_count": null,
      "metadata": {
        "id": "4dUIiCumz9UB",
        "outputId": "b035ebd4-4b6f-4a4f-b964-4378874e7919",
        "colab": {
          "base_uri": "https://localhost:8080/"
        }
      },
      "outputs": [
        {
          "output_type": "execute_result",
          "data": {
            "text/plain": [
              "False"
            ]
          },
          "metadata": {},
          "execution_count": 68
        }
      ],
      "source": [
        "# Use the callable() function to determine if an object is callable\n",
        "callable(dict1)"
      ]
    },
    {
      "cell_type": "code",
      "execution_count": null,
      "metadata": {
        "id": "FQ16mNEKz9UB",
        "outputId": "250a49c6-a2c9-42e8-b3cb-e1c0112e6649",
        "colab": {
          "base_uri": "https://localhost:8080/"
        }
      },
      "outputs": [
        {
          "output_type": "execute_result",
          "data": {
            "text/plain": [
              "[-3, 1, 2, 3.6, 5, 7, 10]"
            ]
          },
          "metadata": {},
          "execution_count": 69
        }
      ],
      "source": [
        "# Use the sorted() function to return a new list from a container, with the items sorted\n",
        "sorted([10, 1, 3.6, 7, 5, 2, -3])"
      ]
    },
    {
      "cell_type": "code",
      "execution_count": null,
      "metadata": {
        "id": "L-u_FOLzz9UB",
        "outputId": "a1697def-bd5f-40cb-df4c-b8aeb3eaa6cb",
        "colab": {
          "base_uri": "https://localhost:8080/"
        }
      },
      "outputs": [
        {
          "output_type": "execute_result",
          "data": {
            "text/plain": [
              "['California', 'Chicago', 'ants', 'cats', 'dogs', 'mice', 'zebras']"
            ]
          },
          "metadata": {},
          "execution_count": 70
        }
      ],
      "source": [
        "# Use the sorted() function to return a new list from a container, with the items sorted\n",
        "# - notice that capitalized strings come first\n",
        "sorted(['dogs', 'cats', 'zebras', 'Chicago', 'California', 'ants', 'mice'])"
      ]
    },
    {
      "cell_type": "code",
      "execution_count": null,
      "metadata": {
        "id": "r8xT2Uhuz9UC",
        "outputId": "dc3e09f4-79cb-494e-99e2-26543c4d6f77",
        "colab": {
          "base_uri": "https://localhost:8080/"
        }
      },
      "outputs": [
        {
          "output_type": "execute_result",
          "data": {
            "text/plain": [
              "-3"
            ]
          },
          "metadata": {},
          "execution_count": 71
        }
      ],
      "source": [
        "# Use the min() function to determine the smallest item in a container\n",
        "min([10, 1, 3.6, 7, 5, 2, -3])"
      ]
    },
    {
      "cell_type": "code",
      "execution_count": null,
      "metadata": {
        "id": "ZKrAtnHDz9UC",
        "outputId": "44c24d15-74cb-4409-dd87-e98c475ff255",
        "colab": {
          "base_uri": "https://localhost:8080/",
          "height": 35
        }
      },
      "outputs": [
        {
          "output_type": "execute_result",
          "data": {
            "text/plain": [
              "'a'"
            ],
            "application/vnd.google.colaboratory.intrinsic+json": {
              "type": "string"
            }
          },
          "metadata": {},
          "execution_count": 72
        }
      ],
      "source": [
        "# Use the min() function to determine the smallest item in a container\n",
        "min(['g', 'z', 'a', 'y'])"
      ]
    },
    {
      "cell_type": "code",
      "execution_count": null,
      "metadata": {
        "id": "l16VutPWz9UC",
        "outputId": "5887e93f-5180-426e-9522-cbc3a02fdd3f",
        "colab": {
          "base_uri": "https://localhost:8080/"
        }
      },
      "outputs": [
        {
          "output_type": "execute_result",
          "data": {
            "text/plain": [
              "10"
            ]
          },
          "metadata": {},
          "execution_count": 73
        }
      ],
      "source": [
        "# Use the max() function to determine the largest item in a container\n",
        "max([10, 1, 3.6, 7, 5, 2, -3])"
      ]
    },
    {
      "cell_type": "code",
      "execution_count": null,
      "metadata": {
        "id": "piu4LG3Wz9UD",
        "outputId": "729f2b9a-f7e2-4d28-c4db-79933ae3f064",
        "colab": {
          "base_uri": "https://localhost:8080/"
        }
      },
      "outputs": [
        {
          "output_type": "execute_result",
          "data": {
            "text/plain": [
              "10"
            ]
          },
          "metadata": {},
          "execution_count": 75
        }
      ],
      "source": [
        "# Use the abs() function to determine the absolute value of a number\n",
        "abs(10)"
      ]
    },
    {
      "cell_type": "code",
      "execution_count": null,
      "metadata": {
        "id": "YitpTEX3z9UD",
        "outputId": "75fc1756-8d62-4de8-e876-d8935b610a25",
        "colab": {
          "base_uri": "https://localhost:8080/"
        }
      },
      "outputs": [
        {
          "output_type": "execute_result",
          "data": {
            "text/plain": [
              "12"
            ]
          },
          "metadata": {},
          "execution_count": 76
        }
      ],
      "source": [
        "# Use the abs() function to determine the absolute value of a number\n",
        "abs(-12)"
      ]
    },
    {
      "cell_type": "code",
      "source": [
        "mi_lista = [1, 2, 3]\n",
        "\n",
        "len(mi_lista)"
      ],
      "metadata": {
        "colab": {
          "base_uri": "https://localhost:8080/"
        },
        "id": "hX-W0FpKo2LU",
        "outputId": "2179797d-debd-4a17-94a1-b825309b78f1"
      },
      "execution_count": null,
      "outputs": [
        {
          "output_type": "execute_result",
          "data": {
            "text/plain": [
              "3"
            ]
          },
          "metadata": {},
          "execution_count": 77
        }
      ]
    },
    {
      "cell_type": "code",
      "source": [
        "students = [\"Andrea\", \"Karol\", \"David\", \"Sara\", \"Juan\"]"
      ],
      "metadata": {
        "id": "1f-uZ34DGMSi"
      },
      "execution_count": null,
      "outputs": []
    },
    {
      "cell_type": "code",
      "source": [
        "#Append\n",
        "students.append(\"Edgar\")\n",
        "print(students)"
      ],
      "metadata": {
        "colab": {
          "base_uri": "https://localhost:8080/"
        },
        "id": "85vCAZ6cHewP",
        "outputId": "3bdb3b1a-713e-42d9-c959-b4172125fdae"
      },
      "execution_count": null,
      "outputs": [
        {
          "output_type": "stream",
          "name": "stdout",
          "text": [
            "['Edgar']\n"
          ]
        }
      ]
    },
    {
      "cell_type": "code",
      "source": [
        "#Insert\n",
        "students.insert(1, \"Heydi\")\n",
        "print(students)"
      ],
      "metadata": {
        "colab": {
          "base_uri": "https://localhost:8080/"
        },
        "id": "S4PrK7qhH9YG",
        "outputId": "a791ae22-913b-434f-cca0-c753a6295c95"
      },
      "execution_count": null,
      "outputs": [
        {
          "output_type": "stream",
          "name": "stdout",
          "text": [
            "['Andrea', 'Heydi', 'Karol', 'David', 'Sara', 'Juan', 'Edgar']\n"
          ]
        }
      ]
    },
    {
      "cell_type": "code",
      "source": [
        "#sort\n",
        "students.sort()\n",
        "print(students)\n",
        "\n",
        "students.sort(reverse=True)\n",
        "print(students)"
      ],
      "metadata": {
        "colab": {
          "base_uri": "https://localhost:8080/"
        },
        "id": "V821sXMVIfLl",
        "outputId": "96bcb0ce-f2e8-40da-a70b-eb84d987cf17"
      },
      "execution_count": null,
      "outputs": [
        {
          "output_type": "stream",
          "name": "stdout",
          "text": [
            "['Andrea', 'David', 'Edgar', 'Heydi', 'Juan', 'Karol', 'Sara']\n",
            "['Sara', 'Karol', 'Juan', 'Heydi', 'Edgar', 'David', 'Andrea']\n"
          ]
        }
      ]
    },
    {
      "cell_type": "code",
      "source": [
        "#copy\n",
        "students1 = students.copy()\n",
        "print(students1)"
      ],
      "metadata": {
        "colab": {
          "base_uri": "https://localhost:8080/"
        },
        "id": "cVxHS_QOI0n_",
        "outputId": "f73789a9-2415-4fee-ed15-f867d8870021"
      },
      "execution_count": null,
      "outputs": [
        {
          "output_type": "stream",
          "name": "stdout",
          "text": [
            "['Sara', 'Karol', 'Juan', 'Heydi', 'Edgar', 'David', 'Andrea']\n"
          ]
        }
      ]
    },
    {
      "cell_type": "code",
      "source": [
        "#Pop\n",
        "students = [\"Andrea\", \"Karol\", \"David\", \"Sara\", \"Juan\"]\n",
        "deleted_student = students.pop()\n",
        "print(students)\n",
        "print(deleted_student)\n",
        "print(students)"
      ],
      "metadata": {
        "colab": {
          "base_uri": "https://localhost:8080/"
        },
        "id": "MZvcmnbpI_s5",
        "outputId": "314cfbca-e333-4533-cd53-eae5653fa266"
      },
      "execution_count": null,
      "outputs": [
        {
          "output_type": "stream",
          "name": "stdout",
          "text": [
            "['Andrea', 'Karol', 'David', 'Sara']\n",
            "Juan\n",
            "['Andrea', 'Karol', 'David', 'Sara']\n"
          ]
        }
      ]
    },
    {
      "cell_type": "code",
      "source": [
        "#clear\n",
        "students.clear()\n",
        "print(students)"
      ],
      "metadata": {
        "colab": {
          "base_uri": "https://localhost:8080/"
        },
        "id": "nAtWrYx0JpUl",
        "outputId": "12ce7ff2-fd31-4684-dffc-6e968f8800ad"
      },
      "execution_count": null,
      "outputs": [
        {
          "output_type": "stream",
          "name": "stdout",
          "text": [
            "[]\n"
          ]
        }
      ]
    },
    {
      "cell_type": "markdown",
      "metadata": {
        "id": "sgAjt6Pbz9UE"
      },
      "source": [
        "# Algunos métodos en objetos de cadena - Diapositiva 16\n"
      ]
    },
    {
      "cell_type": "markdown",
      "source": [
        "- **`.capitalize()`** para devolver una versión capitalizada de la cadena (solo la primera letra en mayúscula)\n",
        "- **`.upper()`** para devolver una versión en mayúsculas de la cadena (todas las letras en mayúsculas)\n",
        "- **`.lower()`** para devolver una versión en minúsculas de la cadena (todas las letras en minúsculas)\n",
        "- **`.count(subcadena)`** para devolver el número de ocurrencias de la subcadena en la cadena\n",
        "- **`.startswith(subcadena)`** para determinar si la cadena comienza con la subcadena\n",
        "- **`.endswith(subcadena)`** para determinar si la cadena termina con la subcadena\n",
        "- **`.replace(viejo, nuevo)`** para devolver una copia de la cadena con las ocurrencias del \"viejo\" reemplazadas por \"nuevo\"\n"
      ],
      "metadata": {
        "id": "8laRK6LEaytv"
      }
    },
    {
      "cell_type": "code",
      "execution_count": null,
      "metadata": {
        "id": "1HKaXwLuz9UE"
      },
      "outputs": [],
      "source": [
        "# Assign a string to a variable\n",
        "a_string = 'tHis is a sTriNg'"
      ]
    },
    {
      "cell_type": "code",
      "execution_count": null,
      "metadata": {
        "id": "QZGvkR3zz9UF",
        "outputId": "5591de17-2db5-48cc-a49b-41d1015b6adb",
        "colab": {
          "base_uri": "https://localhost:8080/",
          "height": 35
        }
      },
      "outputs": [
        {
          "output_type": "execute_result",
          "data": {
            "text/plain": [
              "'This is a string'"
            ],
            "application/vnd.google.colaboratory.intrinsic+json": {
              "type": "string"
            }
          },
          "metadata": {},
          "execution_count": 86
        }
      ],
      "source": [
        "# Return a capitalized version of the string\n",
        "a_string.capitalize()"
      ]
    },
    {
      "cell_type": "code",
      "execution_count": null,
      "metadata": {
        "id": "mupGhmFZz9UF",
        "outputId": "99af2b65-dd55-4954-8213-1bde2823fc35",
        "colab": {
          "base_uri": "https://localhost:8080/",
          "height": 35
        }
      },
      "outputs": [
        {
          "output_type": "execute_result",
          "data": {
            "text/plain": [
              "'THIS IS A STRING'"
            ],
            "application/vnd.google.colaboratory.intrinsic+json": {
              "type": "string"
            }
          },
          "metadata": {},
          "execution_count": 87
        }
      ],
      "source": [
        "# Return an uppercase version of the string\n",
        "a_string.upper()"
      ]
    },
    {
      "cell_type": "code",
      "execution_count": null,
      "metadata": {
        "id": "754Q5zRiz9UF",
        "outputId": "9cb257be-8bdc-44e9-9eab-6283603e2ba0",
        "colab": {
          "base_uri": "https://localhost:8080/",
          "height": 35
        }
      },
      "outputs": [
        {
          "output_type": "execute_result",
          "data": {
            "text/plain": [
              "'this is a string'"
            ],
            "application/vnd.google.colaboratory.intrinsic+json": {
              "type": "string"
            }
          },
          "metadata": {},
          "execution_count": 88
        }
      ],
      "source": [
        "# Return a lowercase version of the string\n",
        "a_string.lower()"
      ]
    },
    {
      "cell_type": "code",
      "execution_count": null,
      "metadata": {
        "id": "1P3zKXZcz9UF",
        "outputId": "c69b4a73-a98f-4c5c-d5a8-ca537d8b0c9b",
        "colab": {
          "base_uri": "https://localhost:8080/",
          "height": 35
        }
      },
      "outputs": [
        {
          "output_type": "execute_result",
          "data": {
            "text/plain": [
              "'tHis is a sTriNg'"
            ],
            "application/vnd.google.colaboratory.intrinsic+json": {
              "type": "string"
            }
          },
          "metadata": {},
          "execution_count": 89
        }
      ],
      "source": [
        "# Notice that the methods called have not actually modified the string\n",
        "a_string"
      ]
    },
    {
      "cell_type": "code",
      "execution_count": null,
      "metadata": {
        "id": "ocM9szQKz9UG",
        "outputId": "54b7adf5-cd9d-4ba3-abcf-4aadd05d6e49",
        "colab": {
          "base_uri": "https://localhost:8080/"
        }
      },
      "outputs": [
        {
          "output_type": "execute_result",
          "data": {
            "text/plain": [
              "3"
            ]
          },
          "metadata": {},
          "execution_count": 90
        }
      ],
      "source": [
        "# Count number of occurences of a substring in the string\n",
        "a_string.count('i')"
      ]
    },
    {
      "cell_type": "code",
      "execution_count": null,
      "metadata": {
        "id": "wUkzedrQz9UG",
        "outputId": "bec3b608-f2e9-4537-f9f1-d919a667413b",
        "colab": {
          "base_uri": "https://localhost:8080/"
        }
      },
      "outputs": [
        {
          "output_type": "execute_result",
          "data": {
            "text/plain": [
              "1"
            ]
          },
          "metadata": {},
          "execution_count": 91
        }
      ],
      "source": [
        "# Count number of occurences of a substring in the string after a certain position\n",
        "a_string.count('i', 7)"
      ]
    },
    {
      "cell_type": "code",
      "execution_count": null,
      "metadata": {
        "id": "MV7bTGo6z9UG",
        "outputId": "16b2eaaf-2237-4204-8ae1-acbf9aa16f7d",
        "colab": {
          "base_uri": "https://localhost:8080/"
        }
      },
      "outputs": [
        {
          "output_type": "execute_result",
          "data": {
            "text/plain": [
              "2"
            ]
          },
          "metadata": {},
          "execution_count": 92
        }
      ],
      "source": [
        "# Count number of occurences of a substring in the string\n",
        "a_string.count('is')"
      ]
    },
    {
      "cell_type": "code",
      "execution_count": null,
      "metadata": {
        "id": "D5Kj2FEez9UH",
        "outputId": "35583133-c231-4956-dd8d-497dcdb5562e",
        "colab": {
          "base_uri": "https://localhost:8080/"
        }
      },
      "outputs": [
        {
          "output_type": "execute_result",
          "data": {
            "text/plain": [
              "False"
            ]
          },
          "metadata": {},
          "execution_count": 93
        }
      ],
      "source": [
        "# Does the string start with 'this'?\n",
        "a_string.startswith('this')"
      ]
    },
    {
      "cell_type": "code",
      "execution_count": null,
      "metadata": {
        "id": "xMd5ateWz9UH",
        "outputId": "46c6d76d-1c49-4f82-f7d3-ce7b4939f503",
        "colab": {
          "base_uri": "https://localhost:8080/"
        }
      },
      "outputs": [
        {
          "output_type": "execute_result",
          "data": {
            "text/plain": [
              "True"
            ]
          },
          "metadata": {},
          "execution_count": 94
        }
      ],
      "source": [
        "# Does the lowercase string start with 'this'?\n",
        "a_string.lower().startswith('this')"
      ]
    },
    {
      "cell_type": "code",
      "execution_count": null,
      "metadata": {
        "id": "8xactA8Az9UI",
        "outputId": "a08d53fc-8acb-4bfa-e7e0-5c69be143ab0",
        "colab": {
          "base_uri": "https://localhost:8080/"
        }
      },
      "outputs": [
        {
          "output_type": "execute_result",
          "data": {
            "text/plain": [
              "True"
            ]
          },
          "metadata": {},
          "execution_count": 95
        }
      ],
      "source": [
        "# Does the string end with 'Ng'?\n",
        "a_string.endswith('Ng')"
      ]
    },
    {
      "cell_type": "code",
      "execution_count": null,
      "metadata": {
        "id": "Y0Wj48Ykz9UI",
        "outputId": "42edb34f-fadf-4f2c-accd-fd68d85bd958",
        "colab": {
          "base_uri": "https://localhost:8080/",
          "height": 35
        }
      },
      "outputs": [
        {
          "output_type": "execute_result",
          "data": {
            "text/plain": [
              "'tHXYZ XYZ a sTriNg'"
            ],
            "application/vnd.google.colaboratory.intrinsic+json": {
              "type": "string"
            }
          },
          "metadata": {},
          "execution_count": 96
        }
      ],
      "source": [
        "# Return a version of the string with a substring replaced with something else\n",
        "a_string.replace('is', 'XYZ')"
      ]
    },
    {
      "cell_type": "code",
      "execution_count": null,
      "metadata": {
        "id": "FfZKAovIz9UI",
        "outputId": "c1a87b9c-f909-4167-c7e2-cd63b2ef7b61",
        "colab": {
          "base_uri": "https://localhost:8080/",
          "height": 35
        }
      },
      "outputs": [
        {
          "output_type": "execute_result",
          "data": {
            "text/plain": [
              "'tH!s !s a sTr!Ng'"
            ],
            "application/vnd.google.colaboratory.intrinsic+json": {
              "type": "string"
            }
          },
          "metadata": {},
          "execution_count": 97
        }
      ],
      "source": [
        "# Return a version of the string with a substring replaced with something else\n",
        "a_string.replace('i', '!')"
      ]
    },
    {
      "cell_type": "code",
      "execution_count": null,
      "metadata": {
        "id": "CLXQV-Nkz9UI",
        "outputId": "50cf2088-39fa-41cd-91a6-f03e0993977f",
        "colab": {
          "base_uri": "https://localhost:8080/",
          "height": 35
        }
      },
      "outputs": [
        {
          "output_type": "execute_result",
          "data": {
            "text/plain": [
              "'tH!s !s a sTriNg'"
            ],
            "application/vnd.google.colaboratory.intrinsic+json": {
              "type": "string"
            }
          },
          "metadata": {},
          "execution_count": 98
        }
      ],
      "source": [
        "# Return a version of the string with the first 2 occurences a substring replaced with something else\n",
        "a_string.replace('i', '!', 2)"
      ]
    },
    {
      "cell_type": "markdown",
      "source": [
        "#Material obtenido de https://gist.github.com/kenjyco/69eeb503125035f21a9d"
      ],
      "metadata": {
        "id": "oRKcRfDB2kr8"
      }
    }
  ],
  "metadata": {
    "kernelspec": {
      "display_name": "Python 3",
      "language": "python",
      "name": "python3"
    },
    "language_info": {
      "codemirror_mode": {
        "name": "ipython",
        "version": 3
      },
      "file_extension": ".py",
      "mimetype": "text/x-python",
      "name": "python",
      "nbconvert_exporter": "python",
      "pygments_lexer": "ipython3",
      "version": "3.8.10"
    },
    "colab": {
      "provenance": [],
      "collapsed_sections": [
        "PkGMtWK0_9Yl"
      ],
      "include_colab_link": true
    }
  },
  "nbformat": 4,
  "nbformat_minor": 0
}